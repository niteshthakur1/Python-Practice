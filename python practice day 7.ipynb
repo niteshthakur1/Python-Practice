{
 "cells": [
  {
   "cell_type": "code",
   "execution_count": 2,
   "id": "c59db763-f259-4a0c-9438-4a3d00b6f744",
   "metadata": {},
   "outputs": [
    {
     "name": "stdin",
     "output_type": "stream",
     "text": [
      "enter a number 3\n"
     ]
    },
    {
     "name": "stdout",
     "output_type": "stream",
     "text": [
      "odd\n"
     ]
    }
   ],
   "source": [
    "#even odd program\n",
    "number = int(input(\"enter a number\"))\n",
    "if number%2==0:\n",
    "    print('even')\n",
    "else:\n",
    "    print('odd')\n"
   ]
  },
  {
   "cell_type": "code",
   "execution_count": 4,
   "id": "b973305b-5bed-41db-bfe4-7a4e94be4767",
   "metadata": {},
   "outputs": [
    {
     "name": "stdin",
     "output_type": "stream",
     "text": [
      "enter a number:  3\n"
     ]
    },
    {
     "name": "stdout",
     "output_type": "stream",
     "text": [
      "odd\n"
     ]
    }
   ],
   "source": [
    "# even odd through turnary \n",
    "number = int(input(\"enter a number: \"))\n",
    "print('even' if number%2==0 else 'odd')"
   ]
  },
  {
   "cell_type": "code",
   "execution_count": 7,
   "id": "c20c1f27-62a2-4e3f-9a12-f451e2627627",
   "metadata": {},
   "outputs": [
    {
     "name": "stdin",
     "output_type": "stream",
     "text": [
      "enter a radius:  12\n"
     ]
    },
    {
     "name": "stdout",
     "output_type": "stream",
     "text": [
      "area of circle {452.3893421169302}\n"
     ]
    }
   ],
   "source": [
    "# area of circle program\n",
    "import math\n",
    "radius = float(input(\"enter a radius: \"))\n",
    "if (radius>0):\n",
    "    area=math.pi *radius*radius\n",
    "    print(f'area of circle',{area})\n",
    "else:\n",
    "    print('cannot find the area of circle')"
   ]
  },
  {
   "cell_type": "code",
   "execution_count": 25,
   "id": "6489303e-d586-420c-9311-013bc046db9f",
   "metadata": {},
   "outputs": [
    {
     "name": "stdin",
     "output_type": "stream",
     "text": [
      "enter a side of square:  23\n"
     ]
    },
    {
     "name": "stdout",
     "output_type": "stream",
     "text": [
      "area of square is 529.00 \n"
     ]
    }
   ],
   "source": [
    "#area of square\n",
    "side = float(input(\"enter a side of square: \"))\n",
    "if(side>0):\n",
    "    area = side*side\n",
    "    print(f'area of square is %.2f '%area)\n",
    "else:\n",
    "    print(\"cannot find area of square\")"
   ]
  },
  {
   "cell_type": "code",
   "execution_count": 27,
   "id": "e95a8a6a-b22d-492d-9cbc-a620a7e3b01a",
   "metadata": {},
   "outputs": [
    {
     "name": "stdin",
     "output_type": "stream",
     "text": [
      "enter age:  101\n"
     ]
    },
    {
     "name": "stdout",
     "output_type": "stream",
     "text": [
      "invalid age\n"
     ]
    }
   ],
   "source": [
    "# age calcukator\n",
    "age = int(input(\"enter age: \"))\n",
    "if (age>0 and age<100):\n",
    "    print(f'age of person is {age} years')\n",
    "else:\n",
    "    print(\"invalid age\")"
   ]
  },
  {
   "cell_type": "code",
   "execution_count": 30,
   "id": "3790db89-dfab-46cb-b4a0-fbf0f30a4523",
   "metadata": {},
   "outputs": [
    {
     "name": "stdin",
     "output_type": "stream",
     "text": [
      "enter a number 1\n",
      "enter a number 2\n",
      "enter a number 4\n"
     ]
    },
    {
     "name": "stdout",
     "output_type": "stream",
     "text": [
      "1\n"
     ]
    }
   ],
   "source": [
    "# 3 integer program\n",
    "n1 = int(input(\"enter a number\"))\n",
    "n2 = int(input(\"enter a number\"))\n",
    "n3 = int(input(\"enter a number\"))\n",
    "if (n1!=n2 and n1!=n3 and n2!=n3):\n",
    "    print(1)\n",
    "else:\n",
    "    print(0)"
   ]
  },
  {
   "cell_type": "code",
   "execution_count": 40,
   "id": "1b0d71b9-35c1-4143-9bfb-39dc57d73416",
   "metadata": {},
   "outputs": [
    {
     "name": "stdin",
     "output_type": "stream",
     "text": [
      " 3\n",
      " 2\n"
     ]
    },
    {
     "name": "stdout",
     "output_type": "stream",
     "text": [
      "0\n"
     ]
    }
   ],
   "source": [
    "M = int(input())\n",
    "N = int(input())\n",
    "if M%N==0:\n",
    "    print(int(M/N))\n",
    "else:\n",
    "    print(0)"
   ]
  },
  {
   "cell_type": "code",
   "execution_count": null,
   "id": "e08389fa-b97b-4158-b208-c9d5565e52a6",
   "metadata": {},
   "outputs": [],
   "source": [
    "     "
   ]
  }
 ],
 "metadata": {
  "kernelspec": {
   "display_name": "Python 3 (ipykernel)",
   "language": "python",
   "name": "python3"
  },
  "language_info": {
   "codemirror_mode": {
    "name": "ipython",
    "version": 3
   },
   "file_extension": ".py",
   "mimetype": "text/x-python",
   "name": "python",
   "nbconvert_exporter": "python",
   "pygments_lexer": "ipython3",
   "version": "3.12.1"
  }
 },
 "nbformat": 4,
 "nbformat_minor": 5
}
