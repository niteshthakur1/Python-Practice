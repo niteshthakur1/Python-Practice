{
 "cells": [
  {
   "cell_type": "code",
   "execution_count": 5,
   "id": "18b34ff7-8ea1-4706-93a6-c58d90235736",
   "metadata": {},
   "outputs": [
    {
     "name": "stdin",
     "output_type": "stream",
     "text": [
      "enter a number 5\n"
     ]
    }
   ],
   "source": [
    "number = float(input('enter a number'))"
   ]
  },
  {
   "cell_type": "code",
   "execution_count": 6,
   "id": "79701381-ef95-46cd-9543-f654e1e95d2e",
   "metadata": {},
   "outputs": [
    {
     "name": "stdout",
     "output_type": "stream",
     "text": [
      "number is positive\n"
     ]
    }
   ],
   "source": [
    "if number > 0:\n",
    "    print(\"number is positive\")\n",
    "elif number< 0:\n",
    "    print(\"number is negative\")\n",
    "else:\n",
    "    print(\"number is zero\")"
   ]
  },
  {
   "cell_type": "code",
   "execution_count": 2,
   "id": "30edf7f3-c318-4031-a31f-2ed4e271d6b3",
   "metadata": {},
   "outputs": [
    {
     "name": "stdin",
     "output_type": "stream",
     "text": [
      " 18\n"
     ]
    },
    {
     "name": "stdout",
     "output_type": "stream",
     "text": [
      "You are eligible for vote\n"
     ]
    }
   ],
   "source": [
    "age = int(input())\n",
    "if age>17:\n",
    "    print(\"You are eligible for vote\")\n",
    "else:\n",
    "    print(\"You are not eligible for vote\")"
   ]
  },
  {
   "cell_type": "code",
   "execution_count": 3,
   "id": "714caddc-ca44-4897-a33d-871992caa892",
   "metadata": {},
   "outputs": [
    {
     "name": "stdin",
     "output_type": "stream",
     "text": [
      "Enter a number:  5\n"
     ]
    },
    {
     "name": "stdout",
     "output_type": "stream",
     "text": [
      "The number is Odd and Positive.\n"
     ]
    }
   ],
   "source": [
    "\n",
    "number = int(input(\"Enter a number: \"))\n",
    "\n",
    "if number >= 0:\n",
    "    if number % 2 == 0:\n",
    "        print(\"The number is Even and Positive.\")\n",
    "    else:\n",
    "        print(\"The number is Odd and Positive.\")\n",
    "else:\n",
    "    if number % 2 == 0:\n",
    "        print(\"The number is Even and Negative.\")\n",
    "    else:\n",
    "        print(\"The number is Odd and Negative.\")\n",
    "\n"
   ]
  },
  {
   "cell_type": "code",
   "execution_count": 5,
   "id": "0a7c2f1e-9f56-4d68-b6b0-cb2056ae7834",
   "metadata": {},
   "outputs": [
    {
     "name": "stdin",
     "output_type": "stream",
     "text": [
      "Enter the first number:  5\n",
      "Enter the second number:  7\n"
     ]
    },
    {
     "name": "stdout",
     "output_type": "stream",
     "text": [
      "The second number (7.0) is greater than the first number (5.0).\n"
     ]
    }
   ],
   "source": [
    "num1 = float(input(\"Enter the first number: \"))\n",
    "num2 = float(input(\"Enter the second number: \"))\n",
    "\n",
    "if num1 > num2:\n",
    "    print(f\"The first number ({num1}) is greater than the second number ({num2}).\")\n",
    "elif num1 < num2:\n",
    "    print(f\"The second number ({num2}) is greater than the first number ({num1}).\")\n",
    "else:\n",
    "    print(f\"Both numbers are equal: {num1} and {num2}.\")\n"
   ]
  },
  {
   "cell_type": "code",
   "execution_count": 7,
   "id": "df3d60a1-54c8-4bb1-96ff-d3e6ba0eaa31",
   "metadata": {},
   "outputs": [
    {
     "name": "stdin",
     "output_type": "stream",
     "text": [
      "enter a number 99\n"
     ]
    },
    {
     "name": "stdout",
     "output_type": "stream",
     "text": [
      "The number 99.0 is not between 10 and 50.\n"
     ]
    }
   ],
   "source": [
    "number = float(input(\"enter a number\"))\n",
    "\n",
    "if 10<= number <=50:\n",
    "   print(f\"The number {number} is between 10 and 50 (inclusive).\")\n",
    "else:\n",
    "    print(f\"The number {number} is not between 10 and 50.\")"
   ]
  },
  {
   "cell_type": "markdown",
   "id": "321cbeef-5629-4e92-aee1-0846fe90fc3c",
   "metadata": {},
   "source": [
    "##### original_price = float(input(\"Enter the original price of the item: $\"))\n",
    "\n",
    "if original_price > 100:\n",
    "    discount_rate = 0.10  # 10% discount\n",
    "else:\n",
    "    discount_rate = 0.05  # 5% discount\n",
    "\n",
    "discount_amount = original_price * discount_rate\n",
    "final_price = original_price - discount_amount\n",
    "\n",
    "print(f\"Discount applied: ${discount_amount:.2f}\")\n",
    "print(f\"Final price after discount: ${final_price:.2f}\")\n"
   ]
  },
  {
   "cell_type": "code",
   "execution_count": 9,
   "id": "c6ecb72c-bcfb-4dbc-84e5-7a2bf40ff484",
   "metadata": {},
   "outputs": [
    {
     "name": "stdin",
     "output_type": "stream",
     "text": [
      "Enter your age:  5\n",
      "Enter your years of experience:  3\n"
     ]
    },
    {
     "name": "stdout",
     "output_type": "stream",
     "text": [
      "You are not eligible for the job.\n"
     ]
    }
   ],
   "source": [
    "age = int(input(\"Enter your age: \"))\n",
    "experience = float(input(\"Enter your years of experience: \"))\n",
    "\n",
    "if age >= 21 and experience > 2:\n",
    "    print(\"You are eligible for the job.\")\n",
    "else:\n",
    "    print(\"You are not eligible for the job.\")\n"
   ]
  },
  {
   "cell_type": "code",
   "execution_count": 10,
   "id": "33521fec-ecdb-4180-8651-0f937f912f82",
   "metadata": {},
   "outputs": [
    {
     "name": "stdout",
     "output_type": "stream",
     "text": [
      "\n",
      "Current balance: $0.00\n"
     ]
    },
    {
     "name": "stdin",
     "output_type": "stream",
     "text": [
      "Do you want to deposit, withdraw, or exit? (type 'deposit', 'withdraw', or 'exit'):  deposit\n",
      "Enter the amount to deposit: $ 12\n"
     ]
    },
    {
     "name": "stdout",
     "output_type": "stream",
     "text": [
      "Deposited $12.00.\n",
      "\n",
      "Current balance: $12.00\n"
     ]
    },
    {
     "name": "stdin",
     "output_type": "stream",
     "text": [
      "Do you want to deposit, withdraw, or exit? (type 'deposit', 'withdraw', or 'exit'):  withdraw\n",
      "Enter the amount to withdraw: $ 2\n"
     ]
    },
    {
     "name": "stdout",
     "output_type": "stream",
     "text": [
      "Withdrew $2.00.\n",
      "\n",
      "Current balance: $10.00\n"
     ]
    },
    {
     "name": "stdin",
     "output_type": "stream",
     "text": [
      "Do you want to deposit, withdraw, or exit? (type 'deposit', 'withdraw', or 'exit'):  exit\n"
     ]
    },
    {
     "name": "stdout",
     "output_type": "stream",
     "text": [
      "\n",
      "Final balance: $10.00\n",
      "Thank you for using the bank account simulator. Goodbye!\n"
     ]
    }
   ],
   "source": [
    "balance = 0\n",
    "\n",
    "while True:\n",
    "    print(f\"\\nCurrent balance: ${balance:.2f}\")\n",
    "    \n",
    "    action = input(\"Do you want to deposit, withdraw, or exit? (type 'deposit', 'withdraw', or 'exit'): \").strip().lower()\n",
    "    \n",
    "    if action == 'deposit':\n",
    "        amount = float(input(\"Enter the amount to deposit: $\"))\n",
    "        if amount > 0:\n",
    "            balance += amount\n",
    "            print(f\"Deposited ${amount:.2f}.\")\n",
    "        else:\n",
    "            print(\"Invalid deposit amount. It must be greater than zero.\")\n",
    "    \n",
    "    elif action == 'withdraw':\n",
    "        amount = float(input(\"Enter the amount to withdraw: $\"))\n",
    "        if amount > 0:\n",
    "            if amount <= balance:\n",
    "                balance -= amount\n",
    "                print(f\"Withdrew ${amount:.2f}.\")\n",
    "            else:\n",
    "                print(\"Insufficient funds.\")\n",
    "        else:\n",
    "            print(\"Invalid withdrawal amount. It must be greater than zero.\")\n",
    "    \n",
    "    elif action == 'exit':\n",
    "        print(f\"\\nFinal balance: ${balance:.2f}\")\n",
    "        print(\"Thank you for using the bank account simulator. Goodbye!\")\n",
    "        break\n",
    "    \n",
    "    else:\n",
    "        print(\"Invalid action. Please choose 'deposit', 'withdraw', or 'exit'.\")\n"
   ]
  },
  {
   "cell_type": "code",
   "execution_count": null,
   "id": "d94bc8c4-e7b9-45e7-853c-76fa80161bca",
   "metadata": {},
   "outputs": [],
   "source": []
  }
 ],
 "metadata": {
  "kernelspec": {
   "display_name": "Python 3 (ipykernel)",
   "language": "python",
   "name": "python3"
  },
  "language_info": {
   "codemirror_mode": {
    "name": "ipython",
    "version": 3
   },
   "file_extension": ".py",
   "mimetype": "text/x-python",
   "name": "python",
   "nbconvert_exporter": "python",
   "pygments_lexer": "ipython3",
   "version": "3.12.1"
  }
 },
 "nbformat": 4,
 "nbformat_minor": 5
}
