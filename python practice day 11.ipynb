{
 "cells": [
  {
   "cell_type": "code",
   "execution_count": 4,
   "id": "53127ca4-c950-4b94-809c-8c5a82b38821",
   "metadata": {},
   "outputs": [
    {
     "name": "stdin",
     "output_type": "stream",
     "text": [
      "enter a number 1\n"
     ]
    },
    {
     "name": "stdout",
     "output_type": "stream",
     "text": [
      "sum of natural number is  1\n"
     ]
    }
   ],
   "source": [
    "## sum of naturaal numbers\n",
    "n = int(input('enter a number: '))\n",
    "total = 0\n",
    "for number in range(1,n+1):\n",
    "    total += number\n",
    "\n",
    "print(\"sum of natural number is \", total)\n",
    "    "
   ]
  },
  {
   "cell_type": "code",
   "execution_count": 10,
   "id": "2c954356-0972-4b19-9623-1bbafd2b8e72",
   "metadata": {},
   "outputs": [
    {
     "name": "stdin",
     "output_type": "stream",
     "text": [
      "enter a number :  3\n"
     ]
    },
    {
     "name": "stdout",
     "output_type": "stream",
     "text": [
      "3 x 1 = 3\n",
      "3 x 2 = 6\n",
      "3 x 3 = 9\n",
      "3 x 4 = 12\n",
      "3 x 5 = 15\n",
      "3 x 6 = 18\n",
      "3 x 7 = 21\n",
      "3 x 8 = 24\n",
      "3 x 9 = 27\n",
      "3 x 10 = 30\n"
     ]
    }
   ],
   "source": [
    "##multipilcation table\n",
    "num = int(input(\"enter a number : \"))\n",
    "for i in range(1,11):\n",
    "    print(num,'x',i,'=',num*i)"
   ]
  },
  {
   "cell_type": "code",
   "execution_count": 16,
   "id": "ca438bef-2b62-497f-814c-08808537f02f",
   "metadata": {},
   "outputs": [
    {
     "name": "stdout",
     "output_type": "stream",
     "text": [
      "2\n",
      "4\n",
      "6\n",
      "8\n",
      "10\n"
     ]
    }
   ],
   "source": [
    "##print even numbers\n",
    "for i in range(1,11):\n",
    "    if i % 2 == 0:\n",
    "        print(i)\n",
    "    "
   ]
  },
  {
   "cell_type": "code",
   "execution_count": 26,
   "id": "37132df8-402f-4db4-bfd3-6edd8ee548c9",
   "metadata": {},
   "outputs": [
    {
     "name": "stdin",
     "output_type": "stream",
     "text": [
      "enter a number :  5\n"
     ]
    },
    {
     "name": "stdout",
     "output_type": "stream",
     "text": [
      "factorial of number is  120\n"
     ]
    }
   ],
   "source": [
    "## factorial of number \n",
    "num = int(input(\"enter a number : \" ))\n",
    "factorial = 1\n",
    "for i in range(1,n+1):\n",
    "    factorial *=i\n",
    "print(\"factorial of number is \",factorial)\n",
    "\n",
    "\n",
    "\n",
    "                \n",
    "                "
   ]
  },
  {
   "cell_type": "code",
   "execution_count": 33,
   "id": "768a7f8f-300b-4a49-b186-8a57c8ede9a1",
   "metadata": {},
   "outputs": [
    {
     "name": "stdin",
     "output_type": "stream",
     "text": [
      "enter a string:  NITESH\n"
     ]
    },
    {
     "name": "stdout",
     "output_type": "stream",
     "text": [
      "number of vowel in string is 2\n"
     ]
    }
   ],
   "source": [
    "## count of vowels in string\n",
    "string = str(input('enter a string: '))\n",
    "vowels = 'aeiouAEIOU'\n",
    "count = 0\n",
    "for char in string:\n",
    "    if char in vowels:\n",
    "        count +=1\n",
    "print(\"number of vowel in string is\", count)"
   ]
  },
  {
   "cell_type": "code",
   "execution_count": 34,
   "id": "84063077-49aa-44e4-ac27-4ad45950b975",
   "metadata": {},
   "outputs": [
    {
     "name": "stdin",
     "output_type": "stream",
     "text": [
      "Enter a string:  nitesh\n"
     ]
    },
    {
     "name": "stdout",
     "output_type": "stream",
     "text": [
      "Reversed string is: hsetin\n"
     ]
    }
   ],
   "source": [
    "string = input(\"Enter a string: \")\n",
    "reversed_string = ''\n",
    "\n",
    "for char in string:\n",
    "    reversed_string = char + reversed_string\n",
    "\n",
    "print(\"Reversed string is:\", reversed_string)\n"
   ]
  },
  {
   "cell_type": "code",
   "execution_count": 46,
   "id": "63e24fc3-b028-4196-ba84-da557ec45a3f",
   "metadata": {},
   "outputs": [
    {
     "name": "stdout",
     "output_type": "stream",
     "text": [
      "4\n"
     ]
    }
   ],
   "source": []
  },
  {
   "cell_type": "code",
   "execution_count": 44,
   "id": "edea5715-3386-4173-b371-82927515166a",
   "metadata": {},
   "outputs": [
    {
     "name": "stdout",
     "output_type": "stream",
     "text": [
      "Sum of list elements is: 15\n"
     ]
    }
   ],
   "source": [
    "## sum of elements\n",
    "numbers = [1, 2, 3, 4, 5]\n",
    "total = 0\n",
    "\n",
    "for num in numbers:\n",
    "    total += num\n",
    "\n",
    "print(\"Sum of list elements is:\", total)\n"
   ]
  },
  {
   "cell_type": "code",
   "execution_count": 60,
   "id": "aa74d1e0-7463-471e-99ac-87d482ced492",
   "metadata": {},
   "outputs": [
    {
     "name": "stdin",
     "output_type": "stream",
     "text": [
      "guess the number:  43\n"
     ]
    },
    {
     "name": "stdout",
     "output_type": "stream",
     "text": [
      "your guess is too low\n"
     ]
    },
    {
     "name": "stdin",
     "output_type": "stream",
     "text": [
      "guess the number:  34\n"
     ]
    },
    {
     "name": "stdout",
     "output_type": "stream",
     "text": [
      "your guess is too low\n"
     ]
    },
    {
     "name": "stdin",
     "output_type": "stream",
     "text": [
      "guess the number:  45\n"
     ]
    },
    {
     "name": "stdout",
     "output_type": "stream",
     "text": [
      "you have guessed the number in 3attempts\n",
      "Thankyou For Playing\n"
     ]
    }
   ],
   "source": [
    "# guessing number program\n",
    "actual_number = 45\n",
    "attempts = 0\n",
    "while True:\n",
    "    attempts +=1\n",
    "    guess=int(input(\"guess the number: \"))\n",
    "    if guess<actual_number:\n",
    "        print(\"your guess is too low\")\n",
    "    elif guess>actual_number:\n",
    "        print(\"your guess is too high\")\n",
    "    else:\n",
    "        print(f\"you have guessed the number in {attempts}attempts\")\n",
    "        break\n",
    "print(\"Thankyou For Playing\")        "
   ]
  },
  {
   "cell_type": "code",
   "execution_count": 63,
   "id": "6b233e8a-3611-4300-98ee-4174ad578165",
   "metadata": {},
   "outputs": [
    {
     "name": "stdin",
     "output_type": "stream",
     "text": [
      "enter number:  34\n"
     ]
    },
    {
     "name": "stdout",
     "output_type": "stream",
     "text": [
      "sum of digits 7 here\n"
     ]
    }
   ],
   "source": [
    "number = int(input(\"enter number: \"))\n",
    "total = 0\n",
    "while number>0:\n",
    "    digit = number%10\n",
    "    total += digit\n",
    "    number //=10\n",
    "print(f\"sum of digits {total} here\") \n",
    "    "
   ]
  },
  {
   "cell_type": "code",
   "execution_count": 71,
   "id": "b653bf69-1f63-4755-ad61-459620a7c696",
   "metadata": {},
   "outputs": [
    {
     "name": "stdin",
     "output_type": "stream",
     "text": [
      "enter a number:  232\n"
     ]
    },
    {
     "name": "stdout",
     "output_type": "stream",
     "text": [
      "232\n",
      "It is a palindrome\n"
     ]
    }
   ],
   "source": [
    "## checking the number is palindrome or not\n",
    "n = int(input(\"enter a number: \"))\n",
    "temp = n\n",
    "reversed = 0\n",
    "while (temp>0):\n",
    "    remainder =temp%10\n",
    "    temp//=10\n",
    "    reversed = reversed *10+remainder\n",
    "print(reversed)\n",
    "if n==reversed:\n",
    "    print(\"It is a palindrome\")\n",
    "else:\n",
    "    print(\"It is not a palindrome\")"
   ]
  },
  {
   "cell_type": "code",
   "execution_count": 76,
   "id": "8a2cfafe-0620-46c0-b4f1-22278650b8fb",
   "metadata": {},
   "outputs": [
    {
     "name": "stdout",
     "output_type": "stream",
     "text": [
      "1\n",
      "2\n",
      "3\n",
      "4\n",
      "5\n",
      "6\n",
      "7\n",
      "8\n",
      "9\n",
      "10\n",
      "11\n",
      "12\n",
      "13\n",
      "14\n"
     ]
    }
   ],
   "source": [
    "#Print Numbers Until Condition\n",
    "num = 1\n",
    "total=0 \n",
    "while total<=100:\n",
    "    print(num)\n",
    "    total+=num\n",
    "    num+=1\n",
    "\n"
   ]
  },
  {
   "cell_type": "code",
   "execution_count": 78,
   "id": "77b0758f-1dd1-4e39-a73a-54fc8ada1024",
   "metadata": {},
   "outputs": [
    {
     "name": "stdin",
     "output_type": "stream",
     "text": [
      "Enter the number of odd numbers to print:  10\n"
     ]
    },
    {
     "name": "stdout",
     "output_type": "stream",
     "text": [
      "1\n",
      "3\n",
      "5\n",
      "7\n",
      "9\n",
      "11\n",
      "13\n",
      "15\n",
      "17\n",
      "19\n"
     ]
    }
   ],
   "source": [
    "## print odd numbers\n",
    "n = int(input(\"Enter the number of odd numbers to print: \"))\n",
    "count = 0\n",
    "num = 1\n",
    "\n",
    "while count < n:\n",
    "    print(num)\n",
    "    num += 2\n",
    "    count += 1\n"
   ]
  },
  {
   "cell_type": "code",
   "execution_count": null,
   "id": "ae3ec5bb-79c2-49d9-8d60-f40042dd104f",
   "metadata": {},
   "outputs": [],
   "source": []
  }
 ],
 "metadata": {
  "kernelspec": {
   "display_name": "Python 3 (ipykernel)",
   "language": "python",
   "name": "python3"
  },
  "language_info": {
   "codemirror_mode": {
    "name": "ipython",
    "version": 3
   },
   "file_extension": ".py",
   "mimetype": "text/x-python",
   "name": "python",
   "nbconvert_exporter": "python",
   "pygments_lexer": "ipython3",
   "version": "3.12.1"
  }
 },
 "nbformat": 4,
 "nbformat_minor": 5
}
