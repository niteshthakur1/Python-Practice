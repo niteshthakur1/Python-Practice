{
 "cells": [
  {
   "cell_type": "code",
   "execution_count": 6,
   "id": "22ffdecc-2ef2-420b-a7d2-ca88fe574ea2",
   "metadata": {},
   "outputs": [
    {
     "name": "stdin",
     "output_type": "stream",
     "text": [
      "enter a string: nitesh\n",
      "enter a string:  sumit\n"
     ]
    },
    {
     "name": "stdout",
     "output_type": "stream",
     "text": [
      "{'i', 's', 't'}\n"
     ]
    }
   ],
   "source": [
    "# program for finding common letter from string\n",
    "def common_letters():\n",
    "    str1=str(input(\"enter a string:\"))\n",
    "    str2=str(input(\"enter a string: \"))\n",
    "    s1=set(str1)\n",
    "    s2=set(str2)\n",
    "    lst = s1 & s2\n",
    "    print(lst)\n",
    "    \n",
    "common_letters()"
   ]
  },
  {
   "cell_type": "code",
   "execution_count": 25,
   "id": "b6b1907a-1915-47fc-95d6-88330d70831f",
   "metadata": {},
   "outputs": [
    {
     "name": "stdin",
     "output_type": "stream",
     "text": [
      "enter a string :  sheena loves eating apple and mango .her sister also loves eating apple and mango\n"
     ]
    },
    {
     "name": "stdout",
     "output_type": "stream",
     "text": [
      "{'sheena': 1, 'loves': 2, 'eating': 2, 'apple': 2, 'and': 2, 'mango': 2, '.her': 1, 'sister': 1, 'also': 1}\n"
     ]
    }
   ],
   "source": [
    "# program Count the frequency of words appearing in a string \n",
    "def freq_words():\n",
    "    str = input(\"enter a string : \")\n",
    "    lis = str.split()\n",
    "    d={}\n",
    "    for i in lis:\n",
    "        if i not in d.keys():\n",
    "            d[i]=0\n",
    "        d[i] =d[i]+1\n",
    "    print(d)\n",
    "            \n",
    "freq_words()"
   ]
  },
  {
   "cell_type": "code",
   "execution_count": 37,
   "id": "69d2f26a-64e3-4f3b-91d3-25d8bd085abe",
   "metadata": {},
   "outputs": [
    {
     "name": "stdout",
     "output_type": "stream",
     "text": [
      "{1: 'one', 2: 'two', 3: 'three'}\n"
     ]
    }
   ],
   "source": [
    "# program to convert two list into dictionary\n",
    "def list_to_dict():\n",
    "    keys=[1,2,3]\n",
    "    values = [\"one\",\"two\",\"three\"]\n",
    "    result = dict(zip(keys,values))\n",
    "    print(result)\n",
    "\n",
    "list_to_dict()   \n",
    "\n",
    "    "
   ]
  },
  {
   "cell_type": "code",
   "execution_count": 41,
   "id": "84895db7-6bc4-4be2-8b17-c7eef49afb7f",
   "metadata": {},
   "outputs": [
    {
     "name": "stdout",
     "output_type": "stream",
     "text": [
      "(1, 'one')\n",
      "(2, 'two')\n",
      "(3, 'three')\n"
     ]
    }
   ],
   "source": [
    "# program to convert dictionary to tupple\n",
    "def list_to_dict():\n",
    "    x={1: 'one', 2: 'two', 3: 'three'}\n",
    "    for i in x.items():\n",
    "        print(i)\n",
    "list_to_dict()\n"
   ]
  },
  {
   "cell_type": "code",
   "execution_count": null,
   "id": "02c13aa2-7a4e-4d98-bbd9-65633f983bf8",
   "metadata": {},
   "outputs": [],
   "source": []
  }
 ],
 "metadata": {
  "kernelspec": {
   "display_name": "Python 3 (ipykernel)",
   "language": "python",
   "name": "python3"
  },
  "language_info": {
   "codemirror_mode": {
    "name": "ipython",
    "version": 3
   },
   "file_extension": ".py",
   "mimetype": "text/x-python",
   "name": "python",
   "nbconvert_exporter": "python",
   "pygments_lexer": "ipython3",
   "version": "3.12.1"
  }
 },
 "nbformat": 4,
 "nbformat_minor": 5
}
