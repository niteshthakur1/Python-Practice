{
 "cells": [
  {
   "cell_type": "code",
   "execution_count": 3,
   "id": "9835fc6d-7eb8-4790-9149-9114b3d277ce",
   "metadata": {},
   "outputs": [
    {
     "name": "stdin",
     "output_type": "stream",
     "text": [
      " 30 120.00\n"
     ]
    },
    {
     "name": "stdout",
     "output_type": "stream",
     "text": [
      "89.50\n"
     ]
    }
   ],
   "source": [
    "### question 1\n",
    "\n",
    "X,Y= (input()).split()\n",
    "X = int(X)\n",
    "Y = float(Y)\n",
    "if (X>0 and X<2000) and (Y>0 and Y<2000):\n",
    "    \n",
    "    if X%5==0 and X<=Y:\n",
    "        T=(Y-(X+0.5))\n",
    "        print(f'%.2f'%T)\n",
    "    else:\n",
    "        print(f'%.2f'%Y)"
   ]
  },
  {
   "cell_type": "code",
   "execution_count": 13,
   "id": "b1a85b40-d72d-4822-9974-e437cb076abb",
   "metadata": {},
   "outputs": [
    {
     "name": "stdin",
     "output_type": "stream",
     "text": [
      "enter age :  14\n"
     ]
    },
    {
     "name": "stdout",
     "output_type": "stream",
     "text": [
      "TEEN\n"
     ]
    }
   ],
   "source": [
    "## age detrmine program\n",
    "\n",
    "age = int(input(\"enter age : \"))\n",
    "if age < 13:\n",
    "    print(\"CHILD\")\n",
    "elif 13 <=age and age <=19:\n",
    "    print(\"TEEN\")\n",
    "else:\n",
    "    print(\"ADULT\")"
   ]
  },
  {
   "cell_type": "code",
   "execution_count": 21,
   "id": "49bfc04f-dc99-4116-bf3f-b684229edb92",
   "metadata": {},
   "outputs": [
    {
     "name": "stdin",
     "output_type": "stream",
     "text": [
      "Enter first number:  1\n",
      "Enter second number:  1\n",
      "Enter third number:  2\n"
     ]
    },
    {
     "name": "stdout",
     "output_type": "stream",
     "text": [
      "The largest number is 2.0\n"
     ]
    }
   ],
   "source": [
    "# Python program to find the largest number among the three input numbers\n",
    "\n",
    "\n",
    "num1 = float(input(\"Enter first number: \"))\n",
    "num2 = float(input(\"Enter second number: \"))\n",
    "num3 = float(input(\"Enter third number: \"))\n",
    "\n",
    "if (num1 >= num2) and (num1 >= num3):\n",
    "   largest = num1\n",
    "elif (num2 >= num1) and (num2 >= num3):\n",
    "   largest = num2\n",
    "else:\n",
    "   largest = num3\n",
    "\n",
    "print(\"The largest number is\", largest)"
   ]
  },
  {
   "cell_type": "code",
   "execution_count": 26,
   "id": "d353f9ff-454c-428c-a7f3-35427f459cb4",
   "metadata": {},
   "outputs": [
    {
     "name": "stdin",
     "output_type": "stream",
     "text": [
      "enter a year 2024\n"
     ]
    },
    {
     "name": "stdout",
     "output_type": "stream",
     "text": [
      "this is a leap year\n"
     ]
    }
   ],
   "source": [
    "# leap year program\n",
    "year= int(input(\"enter a year\"))\n",
    "if (year % 4 == 0 and year % 100 != 0) or (year % 400 == 0):\n",
    "    print(\"this is a leap year\") \n",
    "else:\n",
    "    print(\"this year is not a leap year\")"
   ]
  },
  {
   "cell_type": "code",
   "execution_count": 39,
   "id": "801a7c31-2433-46e3-95a7-99a76cabd694",
   "metadata": {},
   "outputs": [
    {
     "name": "stdin",
     "output_type": "stream",
     "text": [
      "enter marks :  90\n"
     ]
    },
    {
     "name": "stdout",
     "output_type": "stream",
     "text": [
      "A\n"
     ]
    }
   ],
   "source": [
    "## grade calculation program\n",
    "marks = float(input(\"enter marks : \"))\n",
    "if marks >= 90:\n",
    "    print(\"A\")\n",
    "elif marks >= 80:\n",
    "    print(\"B\")\n",
    "elif marks >= 70:\n",
    "     print(\"C\")\n",
    "elif marks >= 60:\n",
    "     print(\"D\")\n",
    "else:\n",
    "     print(\"F\")"
   ]
  },
  {
   "cell_type": "code",
   "execution_count": 41,
   "id": "12975cbf-d6f9-493f-8bfc-83253cae3dd7",
   "metadata": {},
   "outputs": [
    {
     "name": "stdin",
     "output_type": "stream",
     "text": [
      "Enter a number:  11\n"
     ]
    },
    {
     "name": "stdout",
     "output_type": "stream",
     "text": [
      "You entered 11.\n"
     ]
    },
    {
     "name": "stdin",
     "output_type": "stream",
     "text": [
      "Enter a number:  22\n"
     ]
    },
    {
     "name": "stdout",
     "output_type": "stream",
     "text": [
      "You entered 22.\n"
     ]
    },
    {
     "name": "stdin",
     "output_type": "stream",
     "text": [
      "Enter a number:  0\n"
     ]
    },
    {
     "name": "stdout",
     "output_type": "stream",
     "text": [
      "The end.\n"
     ]
    }
   ],
   "source": [
    "# Print numbers until the user enters 0\n",
    "number = int(input('Enter a number: '))\n",
    "\n",
    "# iterate until the user enters 0\n",
    "while number != 0:\n",
    "    print(f'You entered {number}.')\n",
    "    number = int(input('Enter a number: '))\n",
    "\n",
    "print('The end.')\n"
   ]
  },
  {
   "cell_type": "code",
   "execution_count": 42,
   "id": "f878154e-f62f-45fe-b27f-77e7b669aad4",
   "metadata": {},
   "outputs": [
    {
     "name": "stdin",
     "output_type": "stream",
     "text": [
      "Enter your name:  nitesh\n"
     ]
    },
    {
     "name": "stdout",
     "output_type": "stream",
     "text": [
      "Hi nitesh\n"
     ]
    },
    {
     "name": "stdin",
     "output_type": "stream",
     "text": [
      "Enter your name:  end\n"
     ]
    },
    {
     "name": "stdout",
     "output_type": "stream",
     "text": [
      "The loop is ended\n"
     ]
    }
   ],
   "source": [
    "while True:\n",
    "    user_input = input('Enter your name: ')\n",
    "\n",
    "    # terminate the loop when user enters end\n",
    "    if user_input == 'end':\n",
    "        print(f'The loop is ended')\n",
    "        break  \n",
    "\n",
    "    print(f'Hi {user_input}')"
   ]
  },
  {
   "cell_type": "code",
   "execution_count": null,
   "id": "08b32bdf-d002-451f-8efe-976f5f5162a5",
   "metadata": {},
   "outputs": [],
   "source": []
  }
 ],
 "metadata": {
  "kernelspec": {
   "display_name": "Python 3 (ipykernel)",
   "language": "python",
   "name": "python3"
  },
  "language_info": {
   "codemirror_mode": {
    "name": "ipython",
    "version": 3
   },
   "file_extension": ".py",
   "mimetype": "text/x-python",
   "name": "python",
   "nbconvert_exporter": "python",
   "pygments_lexer": "ipython3",
   "version": "3.12.1"
  }
 },
 "nbformat": 4,
 "nbformat_minor": 5
}
