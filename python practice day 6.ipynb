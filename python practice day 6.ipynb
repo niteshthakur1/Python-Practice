{
 "cells": [
  {
   "cell_type": "code",
   "execution_count": 13,
   "id": "94e6292a-5723-444c-b969-4c5651f12b98",
   "metadata": {},
   "outputs": [
    {
     "name": "stdin",
     "output_type": "stream",
     "text": [
      ">  start\n"
     ]
    },
    {
     "name": "stdout",
     "output_type": "stream",
     "text": [
      "Car Started ...\n"
     ]
    },
    {
     "name": "stdin",
     "output_type": "stream",
     "text": [
      ">  help\n"
     ]
    },
    {
     "name": "stdout",
     "output_type": "stream",
     "text": [
      " \n",
      "        start -  to start the car\n",
      "        stop -   to stop the car\n",
      "        quit  - to quit \n"
     ]
    },
    {
     "name": "stdin",
     "output_type": "stream",
     "text": [
      ">  quity\n"
     ]
    },
    {
     "name": "stdout",
     "output_type": "stream",
     "text": [
      " sorry we don,t understand\n"
     ]
    },
    {
     "name": "stdin",
     "output_type": "stream",
     "text": [
      ">  quit\n"
     ]
    },
    {
     "name": "stdout",
     "output_type": "stream",
     "text": [
      " sorry we don,t understand\n"
     ]
    }
   ],
   "source": [
    "## car game engine \n",
    "command = \"\"\n",
    "while command.lower()!= 'quit':\n",
    "    command = input(\"> \").lower()\n",
    "    if command == \"start\":\n",
    "        print(\"Car Started ...\")\n",
    "    elif command == \"stop\":\n",
    "        print(\"Car Stopped....\")\n",
    "    elif command == \"help\":\n",
    "        print(\"\"\" \n",
    "        start -  to start the car\n",
    "        stop -   to stop the car\n",
    "        quit  - to quit \"\"\")\n",
    "    else:\n",
    "        print(\" sorry we don,t understand\")\n",
    "        "
   ]
  },
  {
   "cell_type": "code",
   "execution_count": 15,
   "id": "7a2a72eb-0796-461d-a1d4-db576a633d36",
   "metadata": {},
   "outputs": [
    {
     "name": "stdout",
     "output_type": "stream",
     "text": [
      "1\n",
      "2\n",
      "3\n",
      "4\n",
      "5\n",
      "6\n",
      "7\n",
      "8\n",
      "9\n"
     ]
    }
   ],
   "source": [
    "##for loop \n",
    "\n",
    "for item in [1,2,3,4,5,6,7,8,9]:\n",
    "    print(item)"
   ]
  },
  {
   "cell_type": "code",
   "execution_count": 26,
   "id": "9f3ce17e-8e06-4e5b-9233-be3dab85111d",
   "metadata": {},
   "outputs": [
    {
     "name": "stdout",
     "output_type": "stream",
     "text": [
      "total : 10\n",
      "total : 30\n",
      "total : 60\n"
     ]
    }
   ],
   "source": [
    "prices = [10,20,30]\n",
    "total = 0\n",
    "for price in prices:\n",
    "    total += price\n",
    "    print(f\"total : {total}\")\n"
   ]
  },
  {
   "cell_type": "code",
   "execution_count": 27,
   "id": "3ddf6617-0507-4e16-8013-41ba6bab58f7",
   "metadata": {},
   "outputs": [
    {
     "name": "stdout",
     "output_type": "stream",
     "text": [
      "0,0\n",
      "0,1\n",
      "0,2\n",
      "1,0\n",
      "1,1\n",
      "1,2\n",
      "2,0\n",
      "2,1\n",
      "2,2\n",
      "3,0\n",
      "3,1\n",
      "3,2\n"
     ]
    }
   ],
   "source": [
    "## nested loop\n",
    "\n",
    "for x in range(4):\n",
    "    for y in range(3):\n",
    "        print(f'{x},{y}')"
   ]
  },
  {
   "cell_type": "code",
   "execution_count": 34,
   "id": "ccaf8fd3-0f35-4a52-814b-0d48b02277fd",
   "metadata": {},
   "outputs": [
    {
     "name": "stdout",
     "output_type": "stream",
     "text": [
      "xxxxx\n",
      "xx\n",
      "xxxxx\n",
      "xx\n",
      "xx\n"
     ]
    }
   ],
   "source": [
    "numbers = [5,2,5,2,2]\n",
    "for x_count in numbers:\n",
    "    output = ''\n",
    "    for count in range(x_count):\n",
    "        output += 'x'\n",
    "    print(output)"
   ]
  },
  {
   "cell_type": "code",
   "execution_count": 42,
   "id": "ff3fb027-7bfb-4722-aea3-7b9774916b62",
   "metadata": {},
   "outputs": [
    {
     "name": "stdout",
     "output_type": "stream",
     "text": [
      "['jon', 'aman', 'harsh', 'pulkit', 'katey']\n"
     ]
    }
   ],
   "source": [
    "##list\n",
    "names = ['jhon','aman','harsh','pulkit','katey']\n",
    "names[0] = 'jon'\n",
    "print(names)"
   ]
  },
  {
   "cell_type": "code",
   "execution_count": 47,
   "id": "cb0399f6-7bce-45d5-8f3b-796c3d3d9b9c",
   "metadata": {},
   "outputs": [
    {
     "name": "stdout",
     "output_type": "stream",
     "text": [
      "99\n"
     ]
    }
   ],
   "source": [
    "numbers = [20,44,55,66,77,88,99,90]\n",
    "max = numbers [0]\n",
    "for number in numbers:\n",
    "    if number > max:\n",
    "        max = number\n",
    "print(max)"
   ]
  },
  {
   "cell_type": "code",
   "execution_count": null,
   "id": "b6221ac5-5d2e-45aa-b39b-ef0a22298dfa",
   "metadata": {},
   "outputs": [],
   "source": []
  }
 ],
 "metadata": {
  "kernelspec": {
   "display_name": "Python 3 (ipykernel)",
   "language": "python",
   "name": "python3"
  },
  "language_info": {
   "codemirror_mode": {
    "name": "ipython",
    "version": 3
   },
   "file_extension": ".py",
   "mimetype": "text/x-python",
   "name": "python",
   "nbconvert_exporter": "python",
   "pygments_lexer": "ipython3",
   "version": "3.12.1"
  }
 },
 "nbformat": 4,
 "nbformat_minor": 5
}
