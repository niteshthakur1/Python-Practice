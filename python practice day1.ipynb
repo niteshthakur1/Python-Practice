{
 "cells": [
  {
   "cell_type": "code",
   "execution_count": 15,
   "id": "74d6254a-ee2a-41f7-9212-9ffad381823e",
   "metadata": {},
   "outputs": [],
   "source": [
    "#variable# \n",
    "full_name = 'Jhon Smith'\n",
    "AGE = 20\n",
    "is_new = True"
   ]
  },
  {
   "cell_type": "code",
   "execution_count": 9,
   "id": "d2766d2e-5fcd-47df-aa01-6e7f8a0a5c3c",
   "metadata": {},
   "outputs": [
    {
     "name": "stdout",
     "output_type": "stream",
     "text": [
      "20\n"
     ]
    }
   ],
   "source": []
  },
  {
   "cell_type": "code",
   "execution_count": 18,
   "id": "e6f86b74-154d-4897-8450-62976d159b21",
   "metadata": {},
   "outputs": [
    {
     "name": "stdin",
     "output_type": "stream",
     "text": [
      "What is your name?  nitesh\n",
      "What is your favourite colour ?  blue\n"
     ]
    },
    {
     "name": "stdout",
     "output_type": "stream",
     "text": [
      "nitesh likes blue\n"
     ]
    }
   ],
   "source": [
    "#Recive input#\n",
    "name = input('What is your name? ')\n",
    "colour = input('What is your favourite colour ? ')\n",
    "print (name +  ' likes '  +colour)"
   ]
  },
  {
   "cell_type": "code",
   "execution_count": 22,
   "id": "6b388555-1f76-4087-9624-44fdf185f9de",
   "metadata": {},
   "outputs": [
    {
     "name": "stdin",
     "output_type": "stream",
     "text": [
      "What is your weight in lbs:   160\n"
     ]
    },
    {
     "name": "stdout",
     "output_type": "stream",
     "text": [
      "72.0\n"
     ]
    }
   ],
   "source": [
    "#type conversion#\n",
    "\n",
    "weight_lbs = input('What is your weight in lbs:  ')\n",
    "weight_kg = int(weight_lbs) * 0.45\n",
    "print (weight_kg)"
   ]
  },
  {
   "cell_type": "code",
   "execution_count": 40,
   "id": "422a927c-cba0-462f-9c12-5a01020fccde",
   "metadata": {},
   "outputs": [
    {
     "name": "stdout",
     "output_type": "stream",
     "text": [
      "jenni\n"
     ]
    }
   ],
   "source": [
    "#String#\n",
    "name='jennifer'\n",
    "print(name[0:5])\n"
   ]
  },
  {
   "cell_type": "code",
   "execution_count": null,
   "id": "1c421d88-7309-4b60-94e1-40cd4f8dcd32",
   "metadata": {},
   "outputs": [],
   "source": []
  },
  {
   "cell_type": "code",
   "execution_count": null,
   "id": "6d3f36fb-2f08-47aa-9b7e-46892673af16",
   "metadata": {},
   "outputs": [],
   "source": []
  }
 ],
 "metadata": {
  "kernelspec": {
   "display_name": "Python 3 (ipykernel)",
   "language": "python",
   "name": "python3"
  },
  "language_info": {
   "codemirror_mode": {
    "name": "ipython",
    "version": 3
   },
   "file_extension": ".py",
   "mimetype": "text/x-python",
   "name": "python",
   "nbconvert_exporter": "python",
   "pygments_lexer": "ipython3",
   "version": "3.12.1"
  }
 },
 "nbformat": 4,
 "nbformat_minor": 5
}
