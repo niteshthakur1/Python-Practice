{
 "cells": [
  {
   "cell_type": "code",
   "execution_count": 1,
   "id": "2adc1ecf-8681-481a-a783-581f66f9993b",
   "metadata": {},
   "outputs": [],
   "source": [
    " Celsius=[22.5, 25.0, 20.0, 30.0, 18.5]"
   ]
  },
  {
   "cell_type": "code",
   "execution_count": 5,
   "id": "902b2ee4-a259-4670-8bbc-116f1b220830",
   "metadata": {},
   "outputs": [],
   "source": [
    "Farhenheit= [(Celsius*1.8)+32 for Celsius in Celsius]\n"
   ]
  },
  {
   "cell_type": "code",
   "execution_count": 16,
   "id": "93de87d9-b9b0-48df-9741-29c12968c4b3",
   "metadata": {},
   "outputs": [
    {
     "name": "stdout",
     "output_type": "stream",
     "text": [
      "[72.5, 77.0, 68.0, 86.0, 65.30000000000001]\n"
     ]
    }
   ],
   "source": [
    "print(Farhenheit)"
   ]
  },
  {
   "cell_type": "code",
   "execution_count": 17,
   "id": "806bd0b6-6e2b-4d83-a071-be045032b151",
   "metadata": {},
   "outputs": [],
   "source": [
    "student_scores = {\"Alice\": 85, \"Bob\": 92, \"Charlie\": 78}\n",
    "\n"
   ]
  },
  {
   "cell_type": "code",
   "execution_count": 18,
   "id": "d625346f-0403-4210-a472-2878d6099a3c",
   "metadata": {},
   "outputs": [],
   "source": [
    "average_score = sum(student_scores.values()) / len(student_scores)\n"
   ]
  },
  {
   "cell_type": "code",
   "execution_count": 19,
   "id": "b35b9105-1003-4d2a-bcb5-8fc71aafb295",
   "metadata": {},
   "outputs": [
    {
     "name": "stdout",
     "output_type": "stream",
     "text": [
      "Average Score: 85.0\n"
     ]
    }
   ],
   "source": [
    "print(f\"Average Score: {average_score}\")"
   ]
  },
  {
   "cell_type": "code",
   "execution_count": 20,
   "id": "01866c8f-278c-4e1c-b150-ebb213b29519",
   "metadata": {},
   "outputs": [
    {
     "name": "stdout",
     "output_type": "stream",
     "text": [
      "Receipt:\n",
      "Apple: $1.50\n",
      "Banana: $0.75\n",
      "Orange: $0.90\n",
      "Total: $3.15\n"
     ]
    }
   ],
   "source": [
    "def generate_receipt(items):\n",
    "    total = 0\n",
    "    print(\"Receipt:\")\n",
    "    for item, price in items:\n",
    "        print(f\"{item}: ${price:.2f}\")\n",
    "        total += price\n",
    "    print(f\"Total: ${total:.2f}\")\n",
    "\n",
    "items = [(\"Apple\", 1.5), (\"Banana\", 0.75), (\"Orange\", 0.9)]\n",
    "generate_receipt(items)\n"
   ]
  },
  {
   "cell_type": "code",
   "execution_count": 21,
   "id": "7c7bd8a6-d755-490f-a32a-7844b749bb8a",
   "metadata": {},
   "outputs": [
    {
     "name": "stdout",
     "output_type": "stream",
     "text": [
      "Factorial of 5 is 120\n"
     ]
    }
   ],
   "source": [
    "def factorial(n):\n",
    "    result = 1\n",
    "    for i in range(1, n + 1):\n",
    "        result *= i\n",
    "    return result\n",
    "\n",
    "n = 5\n",
    "print(f\"Factorial of {n} is {factorial(n)}\")\n"
   ]
  },
  {
   "cell_type": "code",
   "execution_count": 22,
   "id": "47d74efa-d8a7-4a11-805f-361f4264867d",
   "metadata": {},
   "outputs": [
    {
     "name": "stdout",
     "output_type": "stream",
     "text": [
      "Roots: (2.0, 1.0)\n"
     ]
    }
   ],
   "source": [
    "import math\n",
    "\n",
    "def solve_quadratic(a, b, c):\n",
    "    discriminant = b**2 - 4*a*c\n",
    "    if discriminant >= 0:\n",
    "        root1 = (-b + math.sqrt(discriminant)) / (2*a)\n",
    "        root2 = (-b - math.sqrt(discriminant)) / (2*a)\n",
    "        return root1, root2\n",
    "    else:\n",
    "        return \"No real roots\"\n",
    "\n",
    "a, b, c = 1, -3, 2\n",
    "roots = solve_quadratic(a, b, c)\n",
    "print(f\"Roots: {roots}\")\n"
   ]
  },
  {
   "cell_type": "code",
   "execution_count": null,
   "id": "a1721ac4-daae-48b1-b158-843086834470",
   "metadata": {},
   "outputs": [],
   "source": []
  }
 ],
 "metadata": {
  "kernelspec": {
   "display_name": "Python 3 (ipykernel)",
   "language": "python",
   "name": "python3"
  },
  "language_info": {
   "codemirror_mode": {
    "name": "ipython",
    "version": 3
   },
   "file_extension": ".py",
   "mimetype": "text/x-python",
   "name": "python",
   "nbconvert_exporter": "python",
   "pygments_lexer": "ipython3",
   "version": "3.12.1"
  }
 },
 "nbformat": 4,
 "nbformat_minor": 5
}
