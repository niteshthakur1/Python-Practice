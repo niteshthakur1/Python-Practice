{
 "cells": [
  {
   "cell_type": "code",
   "execution_count": 16,
   "id": "667387cd-bc6c-43df-ab62-dd5c076603d7",
   "metadata": {},
   "outputs": [
    {
     "name": "stdin",
     "output_type": "stream",
     "text": [
      "enter 1st item price:  90\n",
      "enter 2nd item price :  90\n"
     ]
    },
    {
     "name": "stdout",
     "output_type": "stream",
     "text": [
      "180\n",
      "final price after discount162.00\n"
     ]
    }
   ],
   "source": [
    "## DISCOUNT CALCULATOR\n",
    "item1 = int(input(\"enter 1st item price: \" ))\n",
    "item2 = int(input(\"enter 2nd item price : \"))\n",
    "total = (item1+item2)\n",
    "if total>100:\n",
    "    discount = 0.10\n",
    "    print(total)\n",
    "elif total>200:\n",
    "    discount = 0.20\n",
    "    print(total)\n",
    "elif total >300:\n",
    "    discount = 0.30\n",
    "    print(total)\n",
    "else:\n",
    "    discount = 0\n",
    "final_price = total - (total * discount)\n",
    "print(f'final price after discount %.2f'%final_price)"
   ]
  },
  {
   "cell_type": "code",
   "execution_count": 34,
   "id": "bd58e2ac-7e5b-4fa9-9ef5-e74857556917",
   "metadata": {},
   "outputs": [
    {
     "name": "stdout",
     "output_type": "stream",
     "text": [
      "Next traffic light state: Green\n"
     ]
    }
   ],
   "source": [
    "def next_traffic_light(current_light):\n",
    "    if current_light == \"Red\":\n",
    "        return \"Green\"\n",
    "    elif current_light == \"Green\":\n",
    "        return \"Yellow\"\n",
    "    elif current_light == \"Yellow\":\n",
    "        return \"Red\"\n",
    "    else:\n",
    "        return \"Invalid input\"\n",
    "\n",
    "# Example usage\n",
    "current_light = \"Red\"\n",
    "print(\"Next traffic light state:\", next_traffic_light(current_light))\n"
   ]
  },
  {
   "cell_type": "code",
   "execution_count": 60,
   "id": "06d17089-21d5-498f-8b5c-f7d5f3a8a831",
   "metadata": {},
   "outputs": [
    {
     "name": "stdin",
     "output_type": "stream",
     "text": [
      "Enter your height in meters:  1.7\n",
      "Enter your Weight in Kg:  80\n"
     ]
    },
    {
     "name": "stdout",
     "output_type": "stream",
     "text": [
      "BMI Calculated is:   27.68166089965398\n",
      "You are overweight\n"
     ]
    }
   ],
   "source": [
    "h=float(input(\"Enter your height in meters: \"))\n",
    "w=float(input(\"Enter your Weight in Kg: \"))\n",
    " \n",
    "BMI=w/(h*h)\n",
    "print(\"BMI Calculated is:  \",BMI)\n",
    " \n",
    "if(BMI>0):\n",
    "    if(BMI<=16):\n",
    "        print(\"You are very underweight\")\n",
    "    elif(BMI<=18.5):\n",
    "        print(\"You are underweight\")\n",
    "    elif(BMI<=25):\n",
    "        print(\"Congrats! You are Healthy\")\n",
    "    elif(BMI<=30):\n",
    "        print(\"You are overweight\")\n",
    "    else: \n",
    "        print(\"You are very overweight\")\n",
    "else:\n",
    "    print(\"enter valid details\")\n"
   ]
  },
  {
   "cell_type": "code",
   "execution_count": 69,
   "id": "b68623a7-817e-4732-8a48-8ce99f353507",
   "metadata": {},
   "outputs": [
    {
     "name": "stdin",
     "output_type": "stream",
     "text": [
      "enter user name def complex_calculator():     try:         num1 = complex(input(\"Enter the first complex number (e.g., 1+2j): \"))         num2 = complex(input(\"Enter the second complex number: \"))         operation = input(\"Choose an operation (+, -, *, /): \")          if operation == \"+\":             result = num1 + num2         elif operation == \"-\":             result = num1 - num2         elif operation == \"*\":             result = num1 * num2         elif operation == \"/\":             result = num1 / num2         else:             print(\"Invalid operation!\")             return          print(f\"The result of {num1} {operation} {num2} = {result}\")     except ValueError:         print(\"Invalid input! Please enter valid complex numbers.\")     except ZeroDivisionError:         print(\"Cannot divide by zero!\")  # Run the complex calculator complex_calculato\n",
      "enter password \n"
     ]
    },
    {
     "name": "stdout",
     "output_type": "stream",
     "text": [
      "Login failed. Invalid username or password.\n"
     ]
    }
   ],
   "source": [
    "def login_system(username, password):\n",
    "    correct_username = \"user123\"\n",
    "    correct_password = \"pass123\"\n",
    "\n",
    "    if username == correct_username and password == correct_password:\n",
    "        return \"Login successful. Welcome!\"\n",
    "    else:\n",
    "        return \"Login failed. Invalid username or password.\"\n",
    "\n",
    "\n",
    "username = str(input(\"enter user name\"))\n",
    "password = str(input(\"enter password\"))\n",
    "print(login_system(username, password))\n"
   ]
  },
  {
   "cell_type": "code",
   "execution_count": 2,
   "id": "2af0d3ba-9148-4d2d-a038-ba7b2950b7de",
   "metadata": {},
   "outputs": [
    {
     "name": "stdin",
     "output_type": "stream",
     "text": [
      "Enter the first complex number (e.g., 1+2j):  22\n",
      "Enter the second complex number:  22\n",
      "Choose an operation (+, -, *, /):  /\n"
     ]
    },
    {
     "name": "stdout",
     "output_type": "stream",
     "text": [
      "The result of (22+0j) / (22+0j) = (1+0j)\n"
     ]
    }
   ],
   "source": [
    "def complex_calculator():\n",
    "    try:\n",
    "        num1 = complex(input(\"Enter the first complex number (e.g., 1+2j): \"))\n",
    "        num2 = complex(input(\"Enter the second complex number: \"))\n",
    "        operation = input(\"Choose an operation (+, -, *, /): \")\n",
    "\n",
    "        if operation == \"+\":\n",
    "            result = num1 + num2\n",
    "        elif operation == \"-\":\n",
    "            result = num1 - num2\n",
    "        elif operation == \"*\":\n",
    "            result = num1 * num2\n",
    "        elif operation == \"/\":\n",
    "            result = num1 / num2\n",
    "        else:\n",
    "            print(\"Invalid operation!\")\n",
    "            return\n",
    "\n",
    "        print(f\"The result of {num1} {operation} {num2} = {result}\")\n",
    "    except ValueError:\n",
    "        print(\"Invalid input! Please enter valid complex numbers.\")\n",
    "    except ZeroDivisionError:\n",
    "        print(\"Cannot divide by zero!\")\n",
    "\n",
    "# Run the complex calculator\n",
    "complex_calculator()\n"
   ]
  },
  {
   "cell_type": "code",
   "execution_count": null,
   "id": "b207b1cb-5942-46b4-9cf2-26c66c2f7a39",
   "metadata": {},
   "outputs": [],
   "source": []
  },
  {
   "cell_type": "code",
   "execution_count": null,
   "id": "54b251e7-13ea-4da4-b914-bc742387ff2a",
   "metadata": {},
   "outputs": [],
   "source": []
  }
 ],
 "metadata": {
  "kernelspec": {
   "display_name": "Python 3 (ipykernel)",
   "language": "python",
   "name": "python3"
  },
  "language_info": {
   "codemirror_mode": {
    "name": "ipython",
    "version": 3
   },
   "file_extension": ".py",
   "mimetype": "text/x-python",
   "name": "python",
   "nbconvert_exporter": "python",
   "pygments_lexer": "ipython3",
   "version": "3.12.1"
  }
 },
 "nbformat": 4,
 "nbformat_minor": 5
}
