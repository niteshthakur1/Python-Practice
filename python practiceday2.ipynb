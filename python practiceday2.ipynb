{
 "cells": [
  {
   "cell_type": "code",
   "execution_count": 2,
   "id": "2a444991-9d97-4f07-a1c5-b011aa24d7dd",
   "metadata": {},
   "outputs": [],
   "source": [
    "import math"
   ]
  },
  {
   "cell_type": "code",
   "execution_count": 4,
   "id": "d14fdc16-f386-4e22-904b-4dc9a9f56d5f",
   "metadata": {},
   "outputs": [],
   "source": [
    "name = 'Alice'"
   ]
  },
  {
   "cell_type": "code",
   "execution_count": 6,
   "id": "a0204754-9b9b-43b4-898a-c0c5dc930487",
   "metadata": {},
   "outputs": [
    {
     "name": "stdout",
     "output_type": "stream",
     "text": [
      "40\n"
     ]
    }
   ],
   "source": [
    "age = 23\n",
    "age = 40\n",
    "print (age)\n"
   ]
  },
  {
   "cell_type": "code",
   "execution_count": 8,
   "id": "834dfae2-c63b-4271-919d-1903f6c7eaa7",
   "metadata": {},
   "outputs": [
    {
     "name": "stdout",
     "output_type": "stream",
     "text": [
      "<class 'float'>\n"
     ]
    }
   ],
   "source": [
    "pi = 3.14\n",
    "print(type(pi))\n"
   ]
  },
  {
   "cell_type": "code",
   "execution_count": 11,
   "id": "3015ed8c-2050-4152-a847-e40939e2e7c0",
   "metadata": {},
   "outputs": [
    {
     "name": "stdout",
     "output_type": "stream",
     "text": [
      "100 days \n"
     ]
    }
   ],
   "source": [
    "days = 100\n",
    "str_days = str( days ) + ' days '\n",
    "print (str_days)"
   ]
  },
  {
   "cell_type": "code",
   "execution_count": 19,
   "id": "120690dd-9e51-4376-b94b-4dfab02d9f0a",
   "metadata": {},
   "outputs": [
    {
     "name": "stdout",
     "output_type": "stream",
     "text": [
      "My Name Is Alice And I AM 30 Old.\n"
     ]
    }
   ],
   "source": [
    "## FORMATING STRING##\n",
    "NAME = 'Alice'\n",
    "Age = 30\n",
    "Sentence = f\"My Name Is { NAME } And I AM {Age} Old.\"\n",
    "print(Sentence)\n"
   ]
  },
  {
   "cell_type": "code",
   "execution_count": 22,
   "id": "0cd52dc9-9adc-4386-97a4-d3dc9e43c2b3",
   "metadata": {},
   "outputs": [],
   "source": [
    "#Format the floating-point number#\n",
    "PI = 3.14159\n",
    "Formatted_PI = f\"{PI : .3f}\""
   ]
  },
  {
   "cell_type": "code",
   "execution_count": 23,
   "id": "4cbfc0d6-c5e8-47e8-8d57-e984952c9e67",
   "metadata": {},
   "outputs": [
    {
     "name": "stdout",
     "output_type": "stream",
     "text": [
      " 3.142\n"
     ]
    }
   ],
   "source": [
    "print(Formatted_PI)"
   ]
  },
  {
   "cell_type": "code",
   "execution_count": 26,
   "id": "47eb9536-a0f2-42bf-82e4-a8e0e0eeaa66",
   "metadata": {},
   "outputs": [],
   "source": [
    "#MATH FUNCTIONS#\n",
    "import math\n",
    "sqrt_64 = math.sqrt(64)\n"
   ]
  },
  {
   "cell_type": "code",
   "execution_count": 27,
   "id": "6cd80d1c-d6ca-4fb2-8627-d7e6e43fcecc",
   "metadata": {},
   "outputs": [
    {
     "name": "stdout",
     "output_type": "stream",
     "text": [
      "8.0\n"
     ]
    }
   ],
   "source": [
    "print(sqrt_64)"
   ]
  },
  {
   "cell_type": "code",
   "execution_count": 28,
   "id": "e2a7b1ee-5e34-4fca-8094-199cf4ad6e9c",
   "metadata": {},
   "outputs": [],
   "source": [
    "absolutevalue = abs(-42)"
   ]
  },
  {
   "cell_type": "code",
   "execution_count": 29,
   "id": "8d8cf60b-66ad-42f4-a9ef-6f87c121b33a",
   "metadata": {},
   "outputs": [
    {
     "name": "stdout",
     "output_type": "stream",
     "text": [
      "42\n"
     ]
    }
   ],
   "source": [
    "print(absolutevalue)"
   ]
  },
  {
   "cell_type": "code",
   "execution_count": 30,
   "id": "c93b4769-d51c-4847-b657-605b02b14b26",
   "metadata": {},
   "outputs": [],
   "source": [
    "floatdivision = 15/4 "
   ]
  },
  {
   "cell_type": "code",
   "execution_count": 31,
   "id": "3d7fa975-4a82-4f43-8423-d34e4bd21e2d",
   "metadata": {},
   "outputs": [],
   "source": [
    "integerdivision = 15//4"
   ]
  },
  {
   "cell_type": "code",
   "execution_count": 32,
   "id": "1d7178ab-64e9-4050-b10c-ba35bdf3654e",
   "metadata": {},
   "outputs": [
    {
     "name": "stdout",
     "output_type": "stream",
     "text": [
      "3.75\n",
      "3\n"
     ]
    }
   ],
   "source": [
    "print(floatdivision)\n",
    "print(integerdivision)"
   ]
  },
  {
   "cell_type": "code",
   "execution_count": 33,
   "id": "2de3bab5-7465-4da6-9e65-3dcb3a537dc8",
   "metadata": {},
   "outputs": [],
   "source": [
    "expo = 7**3"
   ]
  },
  {
   "cell_type": "code",
   "execution_count": 34,
   "id": "1694edba-f058-42b8-83c1-c3f9bb427c72",
   "metadata": {},
   "outputs": [
    {
     "name": "stdout",
     "output_type": "stream",
     "text": [
      "343\n"
     ]
    }
   ],
   "source": [
    "print(expo)"
   ]
  },
  {
   "cell_type": "code",
   "execution_count": 35,
   "id": "66162209-0f28-4f36-bdbf-0c52ad3e3062",
   "metadata": {},
   "outputs": [],
   "source": [
    "number = 23%5"
   ]
  },
  {
   "cell_type": "code",
   "execution_count": 36,
   "id": "d498d73d-f76a-4567-b73c-5d9cd10b7232",
   "metadata": {},
   "outputs": [
    {
     "name": "stdout",
     "output_type": "stream",
     "text": [
      "3\n"
     ]
    }
   ],
   "source": [
    "print (number)"
   ]
  },
  {
   "cell_type": "code",
   "execution_count": 37,
   "id": "2128c97d-e5e3-42da-854a-a23b3cdc2f77",
   "metadata": {},
   "outputs": [
    {
     "name": "stdout",
     "output_type": "stream",
     "text": [
      "11\n",
      "12\n"
     ]
    }
   ],
   "source": [
    "counter = 10\n",
    "counter = counter + 1\n",
    "print(counter)\n",
    "\n",
    "counter += 1\n",
    "print(counter)\n"
   ]
  },
  {
   "cell_type": "code",
   "execution_count": null,
   "id": "000d44e6-65ff-490b-8326-1fe0820a11c0",
   "metadata": {},
   "outputs": [],
   "source": []
  }
 ],
 "metadata": {
  "kernelspec": {
   "display_name": "Python 3 (ipykernel)",
   "language": "python",
   "name": "python3"
  },
  "language_info": {
   "codemirror_mode": {
    "name": "ipython",
    "version": 3
   },
   "file_extension": ".py",
   "mimetype": "text/x-python",
   "name": "python",
   "nbconvert_exporter": "python",
   "pygments_lexer": "ipython3",
   "version": "3.12.1"
  }
 },
 "nbformat": 4,
 "nbformat_minor": 5
}
